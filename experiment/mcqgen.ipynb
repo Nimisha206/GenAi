{
 "cells": [
  {
   "cell_type": "code",
   "execution_count": 1,
   "id": "af6bfa37",
   "metadata": {},
   "outputs": [],
   "source": [
    "import os"
   ]
  },
  {
   "cell_type": "code",
   "execution_count": 2,
   "id": "df595de0",
   "metadata": {},
   "outputs": [],
   "source": [
    "from langchain_openai import OpenAI, ChatOpenAI\n",
    "from langchain.prompts import PromptTemplate\n",
    "from langchain.chains import LLMChain, SequentialChain\n",
    "from langchain.callbacks import get_openai_callback\n",
    "import os\n",
    "import pandas as pd\n",
    "import traceback\n",
    "from dotenv import load_dotenv\n",
    "import PyPDF2\n",
    "import json\n"
   ]
  },
  {
   "cell_type": "code",
   "execution_count": 3,
   "id": "f3f0ffbe",
   "metadata": {},
   "outputs": [
    {
     "data": {
      "text/plain": [
       "True"
      ]
     },
     "execution_count": 3,
     "metadata": {},
     "output_type": "execute_result"
    }
   ],
   "source": [
    "load_dotenv()"
   ]
  },
  {
   "cell_type": "code",
   "execution_count": 4,
   "id": "9887e34f",
   "metadata": {},
   "outputs": [],
   "source": [
    "key=os.getenv(\"OpenAI_API_KEY\")"
   ]
  },
  {
   "cell_type": "code",
   "execution_count": 5,
   "id": "3dd01ce1",
   "metadata": {},
   "outputs": [],
   "source": [
    "llm=ChatOpenAI(openai_api_key=key ,model=\"gpt-3.5-turbo\" , temperature=0.7)"
   ]
  },
  {
   "cell_type": "code",
   "execution_count": 6,
   "id": "e3e82c17",
   "metadata": {},
   "outputs": [
    {
     "data": {
      "text/plain": [
       "ChatOpenAI(client=<openai.resources.chat.completions.completions.Completions object at 0x0000029007FE7FD0>, async_client=<openai.resources.chat.completions.completions.AsyncCompletions object at 0x0000029008016D70>, root_client=<openai.OpenAI object at 0x000002907D3DBF70>, root_async_client=<openai.AsyncOpenAI object at 0x0000029007FE7DF0>, temperature=0.7, model_kwargs={}, openai_api_key=SecretStr('**********'))"
      ]
     },
     "execution_count": 6,
     "metadata": {},
     "output_type": "execute_result"
    }
   ],
   "source": [
    "llm"
   ]
  },
  {
   "cell_type": "code",
   "execution_count": 7,
   "id": "e9f1b24c",
   "metadata": {},
   "outputs": [],
   "source": [
    "with open(\"D:\\mcq generator\\mcq generator app\\Response.json\",\"r\" ) as f:\n",
    "    RESPONSE_JSON = json.load(f)"
   ]
  },
  {
   "cell_type": "code",
   "execution_count": 8,
   "id": "0d8a7781",
   "metadata": {},
   "outputs": [
    {
     "name": "stdout",
     "output_type": "stream",
     "text": [
      "{'1': {'no': '1', 'mcq': 'multiple choice question', 'options': {'a': 'choice here', 'b': 'choice here', 'c': 'choice here', 'd': 'choice here'}, 'correct': 'correct answer'}, '2': {'no': '2', 'mcq': 'multiple choice question', 'options': {'a': 'choice here', 'b': 'choice here', 'c': 'choice here', 'd': 'choice here'}, 'correct': 'correct answer'}, '3': {'no': '3', 'mcq': 'multiple choice question', 'options': {'a': 'choice here', 'b': 'choice here', 'c': 'choice here', 'd': 'choice here'}, 'correct': 'correct answer'}, '4': {'no': '4', 'mcq': 'multiple choice question', 'options': {'a': 'choice here', 'b': 'choice here', 'c': 'choice here', 'd': 'choice here'}, 'correct': 'correct answer'}}\n"
     ]
    }
   ],
   "source": [
    "print(RESPONSE_JSON)"
   ]
  },
  {
   "cell_type": "code",
   "execution_count": 9,
   "id": "f6ad99aa",
   "metadata": {},
   "outputs": [],
   "source": [
    "TEMPLATE=\"\"\"\n",
    "Text:{text}\n",
    "You are an expert MCQ maker. Given the above text, it is your job to \\\n",
    "create a quiz  of {number} multiple choice questions for {subject} students in {tone} tone. \n",
    "Make sure the questions are not repeated and check all the questions to be conforming the text as well.\n",
    "Make sure to format your response like  RESPONSE_JSON below  and use it as a guide. \\\n",
    "Ensure to make {number} MCQs\n",
    "### RESPONSE_JSON\n",
    "{RESPONSE_JSON}\n",
    "\"\"\""
   ]
  },
  {
   "cell_type": "code",
   "execution_count": 18,
   "id": "f96b61c8",
   "metadata": {},
   "outputs": [],
   "source": [
    "quiz_generation_prompt=PromptTemplate(\n",
    "    input_variables=[\"text\",\"number\",\"subject\",\"tone\",\"RESPONSE_JSON\"],\n",
    "    template=TEMPLATE\n",
    ")"
   ]
  },
  {
   "cell_type": "code",
   "execution_count": 19,
   "id": "bf0db139",
   "metadata": {},
   "outputs": [],
   "source": [
    "quiz_chain=LLMChain(llm=llm,prompt=quiz_generation_prompt,output_key=\"quiz\",verbose=True)"
   ]
  },
  {
   "cell_type": "code",
   "execution_count": 20,
   "id": "1b47f74a",
   "metadata": {},
   "outputs": [],
   "source": [
    "TEMPLATE2=\"\"\"\n",
    "You are an expert english grammarian and writer. Given a Multiple Choice Quiz for {subject} students.\\\n",
    "You need to evaluate the complexity of the question and give a complete analysis of the quiz. Only use at max 50 words for complexity analysis. \n",
    "if the quiz is not at per with the cognitive and analytical abilities of the students,\\\n",
    "update the quiz questions which needs to be changed and change the tone such that it perfectly fits the student abilities\n",
    "Quiz_MCQs:\n",
    "{quiz}\n",
    "\n",
    "Check from an expert English Writer of the above quiz:\n",
    "\"\"\""
   ]
  },
  {
   "cell_type": "code",
   "execution_count": 21,
   "id": "397e971d",
   "metadata": {},
   "outputs": [],
   "source": [
    "quiz_evaluation_prompt=PromptTemplate(input_variables=[\"subject\", \"quiz\"], template=TEMPLATE)"
   ]
  },
  {
   "cell_type": "code",
   "execution_count": 22,
   "id": "30423647",
   "metadata": {},
   "outputs": [],
   "source": [
    "review_chain=LLMChain(llm=llm,prompt=quiz_evaluation_prompt,output_key='review',verbose=True)"
   ]
  },
  {
   "cell_type": "code",
   "execution_count": 23,
   "id": "2a137597",
   "metadata": {},
   "outputs": [],
   "source": [
    "generate_evaluate_chain=SequentialChain(chains=[quiz_chain, review_chain], input_variables=[\"text\", \"number\", \"subject\", \"tone\", \"RESPONSE_JSON\"],\n",
    "                                        output_variables=[\"quiz\", \"review\"], verbose=True,)\n"
   ]
  },
  {
   "cell_type": "code",
   "execution_count": 24,
   "id": "479613a6",
   "metadata": {},
   "outputs": [],
   "source": [
    " PATH=\"D:\\mcq generator\\mcq generator app\\data.txt\""
   ]
  },
  {
   "cell_type": "code",
   "execution_count": 25,
   "id": "93e4bb76",
   "metadata": {},
   "outputs": [
    {
     "name": "stdout",
     "output_type": "stream",
     "text": [
      "D:\\mcq generator\\mcq generator app\\data.txt\n"
     ]
    }
   ],
   "source": [
    "print(PATH)"
   ]
  },
  {
   "cell_type": "code",
   "execution_count": 26,
   "id": "aa890d10",
   "metadata": {},
   "outputs": [],
   "source": [
    "with open(PATH,\"r\") as f:\n",
    "    text=f.read()"
   ]
  },
  {
   "cell_type": "code",
   "execution_count": 27,
   "id": "71b8505b",
   "metadata": {},
   "outputs": [
    {
     "name": "stdout",
     "output_type": "stream",
     "text": [
      "OpenAI, Inc. is an American artificial intelligence (AI) research organization founded in December 2015 and headquartered in San Francisco, California. It aims to develop \"safe and beneficial\" artificial general intelligence (AGI), which it defines as \"highly autonomous systems that outperform humans at most economically valuable work\".[6] As a leading organization in the ongoing AI boom,[7] OpenAI is known for the GPT family of large language models, the DALL-E series of text-to-image models, and a text-to-video model named Sora.[8][9] Its release of ChatGPT in November 2022 has been credited with catalyzing widespread interest in generative AI.\n",
      "\n",
      "The organization has a complex corporate structure. As of April 2025, it is led by the non-profit OpenAI, Inc.,[1] registered in Delaware, and has multiple for-profit subsidiaries including OpenAI Holdings, LLC and OpenAI Global, LLC.[10] Microsoft has invested US$13 billion in OpenAI, and is entitled to 49% of OpenAI Global, LLC's profits, capped at an estimated 10x their investment.[11][12] Microsoft also provides computing resources to OpenAI through its cloud platform, Microsoft Azure.[13]\n",
      "\n",
      "In 2023 and 2024, OpenAI faced multiple lawsuits for alleged copyright infringement against authors and media companies whose work was used to train some of OpenAI's products. In November 2023, OpenAI's board removed Sam Altman as CEO, citing a lack of confidence in him, but reinstated him five days later following a reconstruction of the board. Throughout 2024, roughly half of then-employed AI safety researchers left OpenAI, citing the company's prominent role in an industry-wide problem.[14][15]\n"
     ]
    }
   ],
   "source": [
    "print(text)"
   ]
  },
  {
   "cell_type": "code",
   "execution_count": 28,
   "id": "604a64a8",
   "metadata": {},
   "outputs": [
    {
     "data": {
      "text/plain": [
       "SequentialChain(verbose=True, chains=[LLMChain(verbose=True, prompt=PromptTemplate(input_variables=['RESPONSE_JSON', 'number', 'subject', 'text', 'tone'], input_types={}, partial_variables={}, template='\\nText:{text}\\nYou are an expert MCQ maker. Given the above text, it is your job to create a quiz  of {number} multiple choice questions for {subject} students in {tone} tone. \\nMake sure the questions are not repeated and check all the questions to be conforming the text as well.\\nMake sure to format your response like  RESPONSE_JSON below  and use it as a guide. Ensure to make {number} MCQs\\n### RESPONSE_JSON\\n{RESPONSE_JSON}\\n'), llm=ChatOpenAI(client=<openai.resources.chat.completions.completions.Completions object at 0x0000029007FE7FD0>, async_client=<openai.resources.chat.completions.completions.AsyncCompletions object at 0x0000029008016D70>, root_client=<openai.OpenAI object at 0x000002907D3DBF70>, root_async_client=<openai.AsyncOpenAI object at 0x0000029007FE7DF0>, temperature=0.7, model_kwargs={}, openai_api_key=SecretStr('**********')), output_key='quiz', output_parser=StrOutputParser(), llm_kwargs={}), LLMChain(verbose=True, prompt=PromptTemplate(input_variables=['RESPONSE_JSON', 'number', 'subject', 'text', 'tone'], input_types={}, partial_variables={}, template='\\nText:{text}\\nYou are an expert MCQ maker. Given the above text, it is your job to create a quiz  of {number} multiple choice questions for {subject} students in {tone} tone. \\nMake sure the questions are not repeated and check all the questions to be conforming the text as well.\\nMake sure to format your response like  RESPONSE_JSON below  and use it as a guide. Ensure to make {number} MCQs\\n### RESPONSE_JSON\\n{RESPONSE_JSON}\\n'), llm=ChatOpenAI(client=<openai.resources.chat.completions.completions.Completions object at 0x0000029007FE7FD0>, async_client=<openai.resources.chat.completions.completions.AsyncCompletions object at 0x0000029008016D70>, root_client=<openai.OpenAI object at 0x000002907D3DBF70>, root_async_client=<openai.AsyncOpenAI object at 0x0000029007FE7DF0>, temperature=0.7, model_kwargs={}, openai_api_key=SecretStr('**********')), output_key='review', output_parser=StrOutputParser(), llm_kwargs={})], input_variables=['text', 'number', 'subject', 'tone', 'RESPONSE_JSON'], output_variables=['quiz', 'review'])"
      ]
     },
     "execution_count": 28,
     "metadata": {},
     "output_type": "execute_result"
    }
   ],
   "source": [
    "generate_evaluate_chain"
   ]
  },
  {
   "cell_type": "code",
   "execution_count": 29,
   "id": "9cd766eb",
   "metadata": {},
   "outputs": [],
   "source": [
    "text\n",
    "NUMBER=5\n",
    "SUBJECT=\"OPENAI\"\n",
    "TONE=\"SIMPLE\"\n",
    "RESPONSE_JSON=RESPONSE_JSON\n"
   ]
  },
  {
   "cell_type": "code",
   "execution_count": 30,
   "id": "5692b2fc",
   "metadata": {},
   "outputs": [
    {
     "data": {
      "text/plain": [
       "{'1': {'no': '1',\n",
       "  'mcq': 'multiple choice question',\n",
       "  'options': {'a': 'choice here',\n",
       "   'b': 'choice here',\n",
       "   'c': 'choice here',\n",
       "   'd': 'choice here'},\n",
       "  'correct': 'correct answer'},\n",
       " '2': {'no': '2',\n",
       "  'mcq': 'multiple choice question',\n",
       "  'options': {'a': 'choice here',\n",
       "   'b': 'choice here',\n",
       "   'c': 'choice here',\n",
       "   'd': 'choice here'},\n",
       "  'correct': 'correct answer'},\n",
       " '3': {'no': '3',\n",
       "  'mcq': 'multiple choice question',\n",
       "  'options': {'a': 'choice here',\n",
       "   'b': 'choice here',\n",
       "   'c': 'choice here',\n",
       "   'd': 'choice here'},\n",
       "  'correct': 'correct answer'},\n",
       " '4': {'no': '4',\n",
       "  'mcq': 'multiple choice question',\n",
       "  'options': {'a': 'choice here',\n",
       "   'b': 'choice here',\n",
       "   'c': 'choice here',\n",
       "   'd': 'choice here'},\n",
       "  'correct': 'correct answer'}}"
      ]
     },
     "execution_count": 30,
     "metadata": {},
     "output_type": "execute_result"
    }
   ],
   "source": [
    "RESPONSE_JSON"
   ]
  },
  {
   "cell_type": "code",
   "execution_count": 31,
   "id": "e027841c",
   "metadata": {},
   "outputs": [
    {
     "data": {
      "text/plain": [
       "'{\"1\": {\"no\": \"1\", \"mcq\": \"multiple choice question\", \"options\": {\"a\": \"choice here\", \"b\": \"choice here\", \"c\": \"choice here\", \"d\": \"choice here\"}, \"correct\": \"correct answer\"}, \"2\": {\"no\": \"2\", \"mcq\": \"multiple choice question\", \"options\": {\"a\": \"choice here\", \"b\": \"choice here\", \"c\": \"choice here\", \"d\": \"choice here\"}, \"correct\": \"correct answer\"}, \"3\": {\"no\": \"3\", \"mcq\": \"multiple choice question\", \"options\": {\"a\": \"choice here\", \"b\": \"choice here\", \"c\": \"choice here\", \"d\": \"choice here\"}, \"correct\": \"correct answer\"}, \"4\": {\"no\": \"4\", \"mcq\": \"multiple choice question\", \"options\": {\"a\": \"choice here\", \"b\": \"choice here\", \"c\": \"choice here\", \"d\": \"choice here\"}, \"correct\": \"correct answer\"}}'"
      ]
     },
     "execution_count": 31,
     "metadata": {},
     "output_type": "execute_result"
    }
   ],
   "source": [
    "import json\n",
    "json.dumps(RESPONSE_JSON)"
   ]
  },
  {
   "cell_type": "code",
   "execution_count": 33,
   "id": "6a0b17bd",
   "metadata": {},
   "outputs": [
    {
     "name": "stdout",
     "output_type": "stream",
     "text": [
      "\n",
      "\n",
      "\u001b[1m> Entering new SequentialChain chain...\u001b[0m\n",
      "\n",
      "\n",
      "\u001b[1m> Entering new LLMChain chain...\u001b[0m\n",
      "Prompt after formatting:\n",
      "\u001b[32;1m\u001b[1;3m\n",
      "Text:OpenAI, Inc. is an American artificial intelligence (AI) research organization founded in December 2015 and headquartered in San Francisco, California. It aims to develop \"safe and beneficial\" artificial general intelligence (AGI), which it defines as \"highly autonomous systems that outperform humans at most economically valuable work\".[6] As a leading organization in the ongoing AI boom,[7] OpenAI is known for the GPT family of large language models, the DALL-E series of text-to-image models, and a text-to-video model named Sora.[8][9] Its release of ChatGPT in November 2022 has been credited with catalyzing widespread interest in generative AI.\n",
      "\n",
      "The organization has a complex corporate structure. As of April 2025, it is led by the non-profit OpenAI, Inc.,[1] registered in Delaware, and has multiple for-profit subsidiaries including OpenAI Holdings, LLC and OpenAI Global, LLC.[10] Microsoft has invested US$13 billion in OpenAI, and is entitled to 49% of OpenAI Global, LLC's profits, capped at an estimated 10x their investment.[11][12] Microsoft also provides computing resources to OpenAI through its cloud platform, Microsoft Azure.[13]\n",
      "\n",
      "In 2023 and 2024, OpenAI faced multiple lawsuits for alleged copyright infringement against authors and media companies whose work was used to train some of OpenAI's products. In November 2023, OpenAI's board removed Sam Altman as CEO, citing a lack of confidence in him, but reinstated him five days later following a reconstruction of the board. Throughout 2024, roughly half of then-employed AI safety researchers left OpenAI, citing the company's prominent role in an industry-wide problem.[14][15]\n",
      "You are an expert MCQ maker. Given the above text, it is your job to create a quiz  of 5 multiple choice questions for OPENAI students in SIMPLE tone. \n",
      "Make sure the questions are not repeated and check all the questions to be conforming the text as well.\n",
      "Make sure to format your response like  RESPONSE_JSON below  and use it as a guide. Ensure to make 5 MCQs\n",
      "### RESPONSE_JSON\n",
      "{\"1\": {\"no\": \"1\", \"mcq\": \"multiple choice question\", \"options\": {\"a\": \"choice here\", \"b\": \"choice here\", \"c\": \"choice here\", \"d\": \"choice here\"}, \"correct\": \"correct answer\"}, \"2\": {\"no\": \"2\", \"mcq\": \"multiple choice question\", \"options\": {\"a\": \"choice here\", \"b\": \"choice here\", \"c\": \"choice here\", \"d\": \"choice here\"}, \"correct\": \"correct answer\"}, \"3\": {\"no\": \"3\", \"mcq\": \"multiple choice question\", \"options\": {\"a\": \"choice here\", \"b\": \"choice here\", \"c\": \"choice here\", \"d\": \"choice here\"}, \"correct\": \"correct answer\"}, \"4\": {\"no\": \"4\", \"mcq\": \"multiple choice question\", \"options\": {\"a\": \"choice here\", \"b\": \"choice here\", \"c\": \"choice here\", \"d\": \"choice here\"}, \"correct\": \"correct answer\"}}\n",
      "\u001b[0m\n",
      "\n",
      "\u001b[1m> Finished chain.\u001b[0m\n",
      "\n",
      "\n",
      "\u001b[1m> Entering new LLMChain chain...\u001b[0m\n",
      "Prompt after formatting:\n",
      "\u001b[32;1m\u001b[1;3m\n",
      "Text:OpenAI, Inc. is an American artificial intelligence (AI) research organization founded in December 2015 and headquartered in San Francisco, California. It aims to develop \"safe and beneficial\" artificial general intelligence (AGI), which it defines as \"highly autonomous systems that outperform humans at most economically valuable work\".[6] As a leading organization in the ongoing AI boom,[7] OpenAI is known for the GPT family of large language models, the DALL-E series of text-to-image models, and a text-to-video model named Sora.[8][9] Its release of ChatGPT in November 2022 has been credited with catalyzing widespread interest in generative AI.\n",
      "\n",
      "The organization has a complex corporate structure. As of April 2025, it is led by the non-profit OpenAI, Inc.,[1] registered in Delaware, and has multiple for-profit subsidiaries including OpenAI Holdings, LLC and OpenAI Global, LLC.[10] Microsoft has invested US$13 billion in OpenAI, and is entitled to 49% of OpenAI Global, LLC's profits, capped at an estimated 10x their investment.[11][12] Microsoft also provides computing resources to OpenAI through its cloud platform, Microsoft Azure.[13]\n",
      "\n",
      "In 2023 and 2024, OpenAI faced multiple lawsuits for alleged copyright infringement against authors and media companies whose work was used to train some of OpenAI's products. In November 2023, OpenAI's board removed Sam Altman as CEO, citing a lack of confidence in him, but reinstated him five days later following a reconstruction of the board. Throughout 2024, roughly half of then-employed AI safety researchers left OpenAI, citing the company's prominent role in an industry-wide problem.[14][15]\n",
      "You are an expert MCQ maker. Given the above text, it is your job to create a quiz  of 5 multiple choice questions for OPENAI students in SIMPLE tone. \n",
      "Make sure the questions are not repeated and check all the questions to be conforming the text as well.\n",
      "Make sure to format your response like  RESPONSE_JSON below  and use it as a guide. Ensure to make 5 MCQs\n",
      "### RESPONSE_JSON\n",
      "{\"1\": {\"no\": \"1\", \"mcq\": \"multiple choice question\", \"options\": {\"a\": \"choice here\", \"b\": \"choice here\", \"c\": \"choice here\", \"d\": \"choice here\"}, \"correct\": \"correct answer\"}, \"2\": {\"no\": \"2\", \"mcq\": \"multiple choice question\", \"options\": {\"a\": \"choice here\", \"b\": \"choice here\", \"c\": \"choice here\", \"d\": \"choice here\"}, \"correct\": \"correct answer\"}, \"3\": {\"no\": \"3\", \"mcq\": \"multiple choice question\", \"options\": {\"a\": \"choice here\", \"b\": \"choice here\", \"c\": \"choice here\", \"d\": \"choice here\"}, \"correct\": \"correct answer\"}, \"4\": {\"no\": \"4\", \"mcq\": \"multiple choice question\", \"options\": {\"a\": \"choice here\", \"b\": \"choice here\", \"c\": \"choice here\", \"d\": \"choice here\"}, \"correct\": \"correct answer\"}}\n",
      "\u001b[0m\n",
      "\n",
      "\u001b[1m> Finished chain.\u001b[0m\n",
      "\n",
      "\u001b[1m> Finished chain.\u001b[0m\n"
     ]
    }
   ],
   "source": [
    "with get_openai_callback() as cb:\n",
    "    response=generate_evaluate_chain(\n",
    "        {\n",
    "        \"text\": text,\n",
    "        \"number\": NUMBER,\n",
    "        \"subject\": SUBJECT,\n",
    "        \"tone\": TONE,\n",
    "        \"RESPONSE_JSON\": json.dumps(RESPONSE_JSON)\n",
    "        }\n",
    "        \n",
    "    )\n",
    "    "
   ]
  },
  {
   "cell_type": "code",
   "execution_count": 34,
   "id": "f68bd532",
   "metadata": {},
   "outputs": [
    {
     "name": "stdout",
     "output_type": "stream",
     "text": [
      "Total Tokens:2155\n",
      "Prompt Tokens:1378\n",
      "Completion Tokens:777\n",
      "Total Cost:0.0018544999999999998\n"
     ]
    }
   ],
   "source": [
    "print(f\"Total Tokens:{cb.total_tokens}\")\n",
    "print(f\"Prompt Tokens:{cb.prompt_tokens}\")\n",
    "print(f\"Completion Tokens:{cb.completion_tokens}\")\n",
    "print(f\"Total Cost:{cb.total_cost}\")\n"
   ]
  },
  {
   "cell_type": "code",
   "execution_count": 35,
   "id": "94d0098b",
   "metadata": {},
   "outputs": [
    {
     "name": "stdout",
     "output_type": "stream",
     "text": [
      "{'text': 'OpenAI, Inc. is an American artificial intelligence (AI) research organization founded in December 2015 and headquartered in San Francisco, California. It aims to develop \"safe and beneficial\" artificial general intelligence (AGI), which it defines as \"highly autonomous systems that outperform humans at most economically valuable work\".[6] As a leading organization in the ongoing AI boom,[7] OpenAI is known for the GPT family of large language models, the DALL-E series of text-to-image models, and a text-to-video model named Sora.[8][9] Its release of ChatGPT in November 2022 has been credited with catalyzing widespread interest in generative AI.\\n\\nThe organization has a complex corporate structure. As of April 2025, it is led by the non-profit OpenAI, Inc.,[1] registered in Delaware, and has multiple for-profit subsidiaries including OpenAI Holdings, LLC and OpenAI Global, LLC.[10] Microsoft has invested US$13 billion in OpenAI, and is entitled to 49% of OpenAI Global, LLC\\'s profits, capped at an estimated 10x their investment.[11][12] Microsoft also provides computing resources to OpenAI through its cloud platform, Microsoft Azure.[13]\\n\\nIn 2023 and 2024, OpenAI faced multiple lawsuits for alleged copyright infringement against authors and media companies whose work was used to train some of OpenAI\\'s products. In November 2023, OpenAI\\'s board removed Sam Altman as CEO, citing a lack of confidence in him, but reinstated him five days later following a reconstruction of the board. Throughout 2024, roughly half of then-employed AI safety researchers left OpenAI, citing the company\\'s prominent role in an industry-wide problem.[14][15]', 'number': 5, 'subject': 'OPENAI', 'tone': 'SIMPLE', 'RESPONSE_JSON': '{\"1\": {\"no\": \"1\", \"mcq\": \"multiple choice question\", \"options\": {\"a\": \"choice here\", \"b\": \"choice here\", \"c\": \"choice here\", \"d\": \"choice here\"}, \"correct\": \"correct answer\"}, \"2\": {\"no\": \"2\", \"mcq\": \"multiple choice question\", \"options\": {\"a\": \"choice here\", \"b\": \"choice here\", \"c\": \"choice here\", \"d\": \"choice here\"}, \"correct\": \"correct answer\"}, \"3\": {\"no\": \"3\", \"mcq\": \"multiple choice question\", \"options\": {\"a\": \"choice here\", \"b\": \"choice here\", \"c\": \"choice here\", \"d\": \"choice here\"}, \"correct\": \"correct answer\"}, \"4\": {\"no\": \"4\", \"mcq\": \"multiple choice question\", \"options\": {\"a\": \"choice here\", \"b\": \"choice here\", \"c\": \"choice here\", \"d\": \"choice here\"}, \"correct\": \"correct answer\"}}', 'quiz': '{\\n    \"1\": {\\n        \"no\": \"1\",\\n        \"mcq\": \"What is the main goal of OpenAI?\",\\n        \"options\": {\\n            \"a\": \"To develop safe and beneficial artificial general intelligence\",\\n            \"b\": \"To outperform humans in all tasks\",\\n            \"c\": \"To dominate the AI industry\",\\n            \"d\": \"To create entertainment AI models\"\\n        },\\n        \"correct\": \"a\"\\n    },\\n    \"2\": {\\n        \"no\": \"2\",\\n        \"mcq\": \"Which of the following is NOT a product known to be developed by OpenAI?\",\\n        \"options\": {\\n            \"a\": \"GPT language models\",\\n            \"b\": \"DALL-E text-to-image models\",\\n            \"c\": \"Sora text-to-video model\",\\n            \"d\": \"VR gaming software\"\\n        },\\n        \"correct\": \"d\"\\n    },\\n    \"3\": {\\n        \"no\": \"3\",\\n        \"mcq\": \"In which state is OpenAI, Inc. registered as a non-profit organization?\",\\n        \"options\": {\\n            \"a\": \"California\",\\n            \"b\": \"New York\",\\n            \"c\": \"Delaware\",\\n            \"d\": \"Texas\"\\n        },\\n        \"correct\": \"c\"\\n    },\\n    \"4\": {\\n        \"no\": \"4\",\\n        \"mcq\": \"Which company has invested $13 billion in OpenAI and provides computing resources through Microsoft Azure?\",\\n        \"options\": {\\n            \"a\": \"Google\",\\n            \"b\": \"Apple\",\\n            \"c\": \"Amazon\",\\n            \"d\": \"Microsoft\"\\n        },\\n        \"correct\": \"d\"\\n    },\\n    \"5\": {\\n        \"no\": \"5\",\\n        \"mcq\": \"Why did OpenAI face lawsuits in 2023 and 2024?\",\\n        \"options\": {\\n            \"a\": \"For trademark infringement\",\\n            \"b\": \"For alleged copyright infringement\",\\n            \"c\": \"For security breaches\",\\n            \"d\": \"For unfair competition practices\"\\n        },\\n        \"correct\": \"b\"\\n    }\\n}', 'review': '{\"1\": {\"no\": \"1\", \"mcq\": \"What does OpenAI aim to develop?\", \"options\": {\"a\": \"Artificial Super Intelligence (ASI)\", \"b\": \"Artificial General Intelligence (AGI)\", \"c\": \"Artificial Narrow Intelligence (ANI)\", \"d\": \"Artificial Emotional Intelligence (AEI)\"}, \"correct\": \"b\"}, \"2\": {\"no\": \"2\", \"mcq\": \"Which organization has invested $13 billion in OpenAI?\", \"options\": {\"a\": \"Google\", \"b\": \"Amazon\", \"c\": \"Microsoft\", \"d\": \"Apple\"}, \"correct\": \"c\"}, \"3\": {\"no\": \"3\", \"mcq\": \"What is the name of the text-to-video model developed by OpenAI?\", \"options\": {\"a\": \"AlphaGo\", \"b\": \"ChatGPT\", \"c\": \"DALL-E\", \"d\": \"Sora\"}, \"correct\": \"d\"}, \"4\": {\"no\": \"4\", \"mcq\": \"When was OpenAI founded?\", \"options\": {\"a\": \"December 2015\", \"b\": \"January 2020\", \"c\": \"November 2018\", \"d\": \"March 2017\"}, \"correct\": \"a\"}, \"5\": {\"no\": \"5\", \"mcq\": \"Who was temporarily removed as CEO of OpenAI in November 2023?\", \"options\": {\"a\": \"Elon Musk\", \"b\": \"Sam Altman\", \"c\": \"Jeff Bezos\", \"d\": \"Satya Nadella\"}, \"correct\": \"b\"}}'}\n"
     ]
    }
   ],
   "source": [
    "print(response)"
   ]
  },
  {
   "cell_type": "code",
   "execution_count": 36,
   "id": "dd83d0e0",
   "metadata": {},
   "outputs": [],
   "source": [
    "quiz=response.get(\"quiz\")"
   ]
  },
  {
   "cell_type": "code",
   "execution_count": 37,
   "id": "daa55c78",
   "metadata": {},
   "outputs": [],
   "source": [
    "quiz =json.loads(quiz)"
   ]
  },
  {
   "cell_type": "code",
   "execution_count": 38,
   "id": "cfc45bfd",
   "metadata": {},
   "outputs": [
    {
     "data": {
      "text/plain": [
       "{'1': {'no': '1',\n",
       "  'mcq': 'What is the main goal of OpenAI?',\n",
       "  'options': {'a': 'To develop safe and beneficial artificial general intelligence',\n",
       "   'b': 'To outperform humans in all tasks',\n",
       "   'c': 'To dominate the AI industry',\n",
       "   'd': 'To create entertainment AI models'},\n",
       "  'correct': 'a'},\n",
       " '2': {'no': '2',\n",
       "  'mcq': 'Which of the following is NOT a product known to be developed by OpenAI?',\n",
       "  'options': {'a': 'GPT language models',\n",
       "   'b': 'DALL-E text-to-image models',\n",
       "   'c': 'Sora text-to-video model',\n",
       "   'd': 'VR gaming software'},\n",
       "  'correct': 'd'},\n",
       " '3': {'no': '3',\n",
       "  'mcq': 'In which state is OpenAI, Inc. registered as a non-profit organization?',\n",
       "  'options': {'a': 'California',\n",
       "   'b': 'New York',\n",
       "   'c': 'Delaware',\n",
       "   'd': 'Texas'},\n",
       "  'correct': 'c'},\n",
       " '4': {'no': '4',\n",
       "  'mcq': 'Which company has invested $13 billion in OpenAI and provides computing resources through Microsoft Azure?',\n",
       "  'options': {'a': 'Google', 'b': 'Apple', 'c': 'Amazon', 'd': 'Microsoft'},\n",
       "  'correct': 'd'},\n",
       " '5': {'no': '5',\n",
       "  'mcq': 'Why did OpenAI face lawsuits in 2023 and 2024?',\n",
       "  'options': {'a': 'For trademark infringement',\n",
       "   'b': 'For alleged copyright infringement',\n",
       "   'c': 'For security breaches',\n",
       "   'd': 'For unfair competition practices'},\n",
       "  'correct': 'b'}}"
      ]
     },
     "execution_count": 38,
     "metadata": {},
     "output_type": "execute_result"
    }
   ],
   "source": [
    "quiz"
   ]
  },
  {
   "cell_type": "code",
   "execution_count": 39,
   "id": "28aa32c2",
   "metadata": {},
   "outputs": [],
   "source": [
    "quiz_table_data = []\n",
    "for key, value in quiz.items():\n",
    "    mcq = value[\"mcq\"]\n",
    "    options = \" | \".join(\n",
    "        [\n",
    "            f\"{option}: {option_value}\"\n",
    "            for option, option_value in value[\"options\"].items()\n",
    "            ]\n",
    "        )\n",
    "    correct = value[\"correct\"]\n",
    "    quiz_table_data.append({\"MCQ\": mcq, \"Choices\": options, \"Correct\": correct})\n"
   ]
  },
  {
   "cell_type": "code",
   "execution_count": 40,
   "id": "8a71edf3",
   "metadata": {},
   "outputs": [
    {
     "data": {
      "text/plain": [
       "[{'MCQ': 'What is the main goal of OpenAI?',\n",
       "  'Choices': 'a: To develop safe and beneficial artificial general intelligence | b: To outperform humans in all tasks | c: To dominate the AI industry | d: To create entertainment AI models',\n",
       "  'Correct': 'a'},\n",
       " {'MCQ': 'Which of the following is NOT a product known to be developed by OpenAI?',\n",
       "  'Choices': 'a: GPT language models | b: DALL-E text-to-image models | c: Sora text-to-video model | d: VR gaming software',\n",
       "  'Correct': 'd'},\n",
       " {'MCQ': 'In which state is OpenAI, Inc. registered as a non-profit organization?',\n",
       "  'Choices': 'a: California | b: New York | c: Delaware | d: Texas',\n",
       "  'Correct': 'c'},\n",
       " {'MCQ': 'Which company has invested $13 billion in OpenAI and provides computing resources through Microsoft Azure?',\n",
       "  'Choices': 'a: Google | b: Apple | c: Amazon | d: Microsoft',\n",
       "  'Correct': 'd'},\n",
       " {'MCQ': 'Why did OpenAI face lawsuits in 2023 and 2024?',\n",
       "  'Choices': 'a: For trademark infringement | b: For alleged copyright infringement | c: For security breaches | d: For unfair competition practices',\n",
       "  'Correct': 'b'}]"
      ]
     },
     "execution_count": 40,
     "metadata": {},
     "output_type": "execute_result"
    }
   ],
   "source": [
    "quiz_table_data"
   ]
  },
  {
   "cell_type": "code",
   "execution_count": 42,
   "id": "639f4016",
   "metadata": {},
   "outputs": [],
   "source": [
    "df =pd.DataFrame(quiz_table_data)"
   ]
  },
  {
   "cell_type": "code",
   "execution_count": 44,
   "id": "5a477553",
   "metadata": {},
   "outputs": [],
   "source": [
    "df.to_csv('Openai.csv',index=False)"
   ]
  },
  {
   "cell_type": "code",
   "execution_count": null,
   "id": "6f9281d0",
   "metadata": {},
   "outputs": [],
   "source": []
  }
 ],
 "metadata": {
  "kernelspec": {
   "display_name": "venv",
   "language": "python",
   "name": "python3"
  },
  "language_info": {
   "codemirror_mode": {
    "name": "ipython",
    "version": 3
   },
   "file_extension": ".py",
   "mimetype": "text/x-python",
   "name": "python",
   "nbconvert_exporter": "python",
   "pygments_lexer": "ipython3",
   "version": "3.10.1"
  }
 },
 "nbformat": 4,
 "nbformat_minor": 5
}
